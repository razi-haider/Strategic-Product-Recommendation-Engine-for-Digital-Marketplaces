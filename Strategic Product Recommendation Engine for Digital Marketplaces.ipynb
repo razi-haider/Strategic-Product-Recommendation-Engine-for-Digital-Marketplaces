{
 "cells": [
  {
   "cell_type": "markdown",
   "id": "a9a825fa-8148-47bd-987d-78f1ae21b3a3",
   "metadata": {},
   "source": [
    "# Strategic Product Recommendation Engine for Digital Marketplaces\n",
    "### Project by Razi Haider"
   ]
  },
  {
   "cell_type": "markdown",
   "id": "4579b9cb-6be1-4873-98d3-af3447078d1f",
   "metadata": {},
   "source": [
    "## Recommendation System Overview\n",
    "\n",
    "A well-developed recommendation system enhances the shopping experience on a website, leading to improved customer acquisition and retention.\n",
    "\n",
    "The recommendation system is structured into three components, tailored to different stages of the customer's journey:\n",
    "\n",
    "1. **Part I: Popularity-Based Recommendations** - For new customers, the system suggests the most popular products on the website.\n",
    "2. **Part II: Collaborative Filtering** - For returning customers, the system utilizes purchase history and user ratings to recommend products similar to those previously bought.\n",
    "3. **Part III: Initial Setup Recommendations** - For e-commerce websites without product ratings, the system initially recommends top-selling products.\n",
    "\n",
    "Initially, new visitors are presented with popular items. After making a purchase, the system updates recommendations based on the customer’s purchase history and ratings from similar users, employing collaborative filtering techniques.\n"
   ]
  },
  {
   "cell_type": "markdown",
   "id": "9a9d7d07-26d1-4491-8599-ebd9587919bb",
   "metadata": {},
   "source": [
    "### Recommendation System - Part I\n",
    "\n",
    "### Popularity-Based Recommendation for New Customers\n",
    "\n",
    "A popularity-based recommendation system is highly effective for engaging new customers by showcasing the most popular products available on a business's website. This approach is especially valuable for initiating a recommendation engine during the cold start phase.\n",
    "\n",
    "**Dataset:** [Amazon Product Review Dataset from kaggle](https://www.kaggle.com/datasets/skillsmuggler/amazon-ratings)\n"
   ]
  },
  {
   "cell_type": "markdown",
   "id": "7f297284-6580-46e5-8d87-0fb3c8e4c6ba",
   "metadata": {},
   "source": [
    "#### Loading and Inspecting the Data"
   ]
  },
  {
   "cell_type": "code",
   "execution_count": 5,
   "id": "02bf224b-c27c-4a42-9009-d9a4964683fb",
   "metadata": {},
   "outputs": [],
   "source": [
    "# Import necessary libraries\n",
    "import numpy as np\n",
    "import pandas as pd\n",
    "import sklearn\n",
    "from sklearn.decomposition import TruncatedSVD\n",
    "import matplotlib.pyplot as plt\n",
    "# matplotlib inline\n",
    "plt.style.use(\"ggplot\")"
   ]
  },
  {
   "cell_type": "code",
   "execution_count": 6,
   "id": "04edb678-405a-46e8-840b-33236ce94f5a",
   "metadata": {},
   "outputs": [],
   "source": [
    "# Load the dataset\n",
    "amazon_ratings = pd.read_csv('ratings_Beauty.csv')"
   ]
  },
  {
   "cell_type": "code",
   "execution_count": 7,
   "id": "b2e64ccd-0c41-4960-83b7-5f090b8ec320",
   "metadata": {},
   "outputs": [
    {
     "data": {
      "text/html": [
       "<div>\n",
       "<style scoped>\n",
       "    .dataframe tbody tr th:only-of-type {\n",
       "        vertical-align: middle;\n",
       "    }\n",
       "\n",
       "    .dataframe tbody tr th {\n",
       "        vertical-align: top;\n",
       "    }\n",
       "\n",
       "    .dataframe thead th {\n",
       "        text-align: right;\n",
       "    }\n",
       "</style>\n",
       "<table border=\"1\" class=\"dataframe\">\n",
       "  <thead>\n",
       "    <tr style=\"text-align: right;\">\n",
       "      <th></th>\n",
       "      <th>UserId</th>\n",
       "      <th>ProductId</th>\n",
       "      <th>Rating</th>\n",
       "      <th>Timestamp</th>\n",
       "    </tr>\n",
       "  </thead>\n",
       "  <tbody>\n",
       "    <tr>\n",
       "      <th>0</th>\n",
       "      <td>A39HTATAQ9V7YF</td>\n",
       "      <td>0205616461</td>\n",
       "      <td>5.0</td>\n",
       "      <td>1369699200</td>\n",
       "    </tr>\n",
       "    <tr>\n",
       "      <th>1</th>\n",
       "      <td>A3JM6GV9MNOF9X</td>\n",
       "      <td>0558925278</td>\n",
       "      <td>3.0</td>\n",
       "      <td>1355443200</td>\n",
       "    </tr>\n",
       "    <tr>\n",
       "      <th>2</th>\n",
       "      <td>A1Z513UWSAAO0F</td>\n",
       "      <td>0558925278</td>\n",
       "      <td>5.0</td>\n",
       "      <td>1404691200</td>\n",
       "    </tr>\n",
       "    <tr>\n",
       "      <th>3</th>\n",
       "      <td>A1WMRR494NWEWV</td>\n",
       "      <td>0733001998</td>\n",
       "      <td>4.0</td>\n",
       "      <td>1382572800</td>\n",
       "    </tr>\n",
       "    <tr>\n",
       "      <th>4</th>\n",
       "      <td>A3IAAVS479H7M7</td>\n",
       "      <td>0737104473</td>\n",
       "      <td>1.0</td>\n",
       "      <td>1274227200</td>\n",
       "    </tr>\n",
       "    <tr>\n",
       "      <th>...</th>\n",
       "      <td>...</td>\n",
       "      <td>...</td>\n",
       "      <td>...</td>\n",
       "      <td>...</td>\n",
       "    </tr>\n",
       "    <tr>\n",
       "      <th>2023065</th>\n",
       "      <td>A3DEHKPFANB8VA</td>\n",
       "      <td>B00LORWRJA</td>\n",
       "      <td>5.0</td>\n",
       "      <td>1405296000</td>\n",
       "    </tr>\n",
       "    <tr>\n",
       "      <th>2023066</th>\n",
       "      <td>A3DEHKPFANB8VA</td>\n",
       "      <td>B00LOS7MEE</td>\n",
       "      <td>5.0</td>\n",
       "      <td>1405296000</td>\n",
       "    </tr>\n",
       "    <tr>\n",
       "      <th>2023067</th>\n",
       "      <td>AG9TJLJUN5OM3</td>\n",
       "      <td>B00LP2YB8E</td>\n",
       "      <td>5.0</td>\n",
       "      <td>1405382400</td>\n",
       "    </tr>\n",
       "    <tr>\n",
       "      <th>2023068</th>\n",
       "      <td>AYBIB14QOI9PC</td>\n",
       "      <td>B00LPVG6V0</td>\n",
       "      <td>5.0</td>\n",
       "      <td>1405555200</td>\n",
       "    </tr>\n",
       "    <tr>\n",
       "      <th>2023069</th>\n",
       "      <td>A1PB6OT0OOPKNQ</td>\n",
       "      <td>B00LU0LTOU</td>\n",
       "      <td>5.0</td>\n",
       "      <td>1405641600</td>\n",
       "    </tr>\n",
       "  </tbody>\n",
       "</table>\n",
       "<p>2023070 rows × 4 columns</p>\n",
       "</div>"
      ],
      "text/plain": [
       "                 UserId   ProductId  Rating   Timestamp\n",
       "0        A39HTATAQ9V7YF  0205616461     5.0  1369699200\n",
       "1        A3JM6GV9MNOF9X  0558925278     3.0  1355443200\n",
       "2        A1Z513UWSAAO0F  0558925278     5.0  1404691200\n",
       "3        A1WMRR494NWEWV  0733001998     4.0  1382572800\n",
       "4        A3IAAVS479H7M7  0737104473     1.0  1274227200\n",
       "...                 ...         ...     ...         ...\n",
       "2023065  A3DEHKPFANB8VA  B00LORWRJA     5.0  1405296000\n",
       "2023066  A3DEHKPFANB8VA  B00LOS7MEE     5.0  1405296000\n",
       "2023067   AG9TJLJUN5OM3  B00LP2YB8E     5.0  1405382400\n",
       "2023068   AYBIB14QOI9PC  B00LPVG6V0     5.0  1405555200\n",
       "2023069  A1PB6OT0OOPKNQ  B00LU0LTOU     5.0  1405641600\n",
       "\n",
       "[2023070 rows x 4 columns]"
      ]
     },
     "execution_count": 7,
     "metadata": {},
     "output_type": "execute_result"
    }
   ],
   "source": [
    "# Display the dataset\n",
    "amazon_ratings"
   ]
  },
  {
   "cell_type": "code",
   "execution_count": 8,
   "id": "a65f72c8-948b-4285-9e04-8b0169f3a526",
   "metadata": {},
   "outputs": [
    {
     "name": "stdout",
     "output_type": "stream",
     "text": [
      "             Rating     Timestamp\n",
      "count  2.023070e+06  2.023070e+06\n",
      "mean   4.149036e+00  1.360389e+09\n",
      "std    1.311505e+00  4.611860e+07\n",
      "min    1.000000e+00  9.087552e+08\n",
      "25%    4.000000e+00  1.350259e+09\n",
      "50%    5.000000e+00  1.372810e+09\n",
      "75%    5.000000e+00  1.391472e+09\n",
      "max    5.000000e+00  1.406074e+09\n"
     ]
    }
   ],
   "source": [
    "# Display descriptive statistics\n",
    "print(amazon_ratings.describe())"
   ]
  },
  {
   "cell_type": "code",
   "execution_count": 9,
   "id": "e314328b-36d5-49ce-b635-9317292ab2fe",
   "metadata": {},
   "outputs": [
    {
     "name": "stdout",
     "output_type": "stream",
     "text": [
      "<class 'pandas.core.frame.DataFrame'>\n",
      "RangeIndex: 2023070 entries, 0 to 2023069\n",
      "Data columns (total 4 columns):\n",
      " #   Column     Dtype  \n",
      "---  ------     -----  \n",
      " 0   UserId     object \n",
      " 1   ProductId  object \n",
      " 2   Rating     float64\n",
      " 3   Timestamp  int64  \n",
      "dtypes: float64(1), int64(1), object(2)\n",
      "memory usage: 61.7+ MB\n"
     ]
    }
   ],
   "source": [
    "# Get the summary of the dataset\n",
    "amazon_ratings.info()"
   ]
  },
  {
   "cell_type": "markdown",
   "id": "468da200-6027-444d-9063-81d4a9b374f8",
   "metadata": {},
   "source": [
    "#### Data Cleaning"
   ]
  },
  {
   "cell_type": "code",
   "execution_count": 11,
   "id": "b3578d90-c1e9-4dbe-a0c0-958294e81927",
   "metadata": {},
   "outputs": [
    {
     "name": "stdout",
     "output_type": "stream",
     "text": [
      "UserId       0\n",
      "ProductId    0\n",
      "Rating       0\n",
      "Timestamp    0\n",
      "dtype: int64\n"
     ]
    }
   ],
   "source": [
    "# Check for missing values\n",
    "print(amazon_ratings.isnull().sum())"
   ]
  },
  {
   "cell_type": "code",
   "execution_count": 12,
   "id": "364ea695-85dd-453b-a5ba-7ae8d00a55be",
   "metadata": {},
   "outputs": [
    {
     "name": "stdout",
     "output_type": "stream",
     "text": [
      "0\n"
     ]
    }
   ],
   "source": [
    "# Check for duplicate values \n",
    "print(amazon_ratings.duplicated().sum())"
   ]
  },
  {
   "cell_type": "markdown",
   "id": "99074d01-4f67-43e2-8bff-9ad3286ad63a",
   "metadata": {},
   "source": [
    "##### *The dataset is complete with no missing values and duplicated values.*"
   ]
  },
  {
   "cell_type": "markdown",
   "id": "7ee0b3bf-774c-49b6-bfb9-d0d9a8c2775e",
   "metadata": {},
   "source": [
    "#### Most Popular Products Based on Number of Ratings"
   ]
  },
  {
   "cell_type": "code",
   "execution_count": 15,
   "id": "7f59def7-6f0f-48b0-bd6a-1099b0a21da6",
   "metadata": {},
   "outputs": [
    {
     "data": {
      "text/html": [
       "<div>\n",
       "<style scoped>\n",
       "    .dataframe tbody tr th:only-of-type {\n",
       "        vertical-align: middle;\n",
       "    }\n",
       "\n",
       "    .dataframe tbody tr th {\n",
       "        vertical-align: top;\n",
       "    }\n",
       "\n",
       "    .dataframe thead th {\n",
       "        text-align: right;\n",
       "    }\n",
       "</style>\n",
       "<table border=\"1\" class=\"dataframe\">\n",
       "  <thead>\n",
       "    <tr style=\"text-align: right;\">\n",
       "      <th></th>\n",
       "      <th>Rating</th>\n",
       "    </tr>\n",
       "    <tr>\n",
       "      <th>ProductId</th>\n",
       "      <th></th>\n",
       "    </tr>\n",
       "  </thead>\n",
       "  <tbody>\n",
       "    <tr>\n",
       "      <th>B001MA0QY2</th>\n",
       "      <td>7533</td>\n",
       "    </tr>\n",
       "    <tr>\n",
       "      <th>B0009V1YR8</th>\n",
       "      <td>2869</td>\n",
       "    </tr>\n",
       "    <tr>\n",
       "      <th>B0043OYFKU</th>\n",
       "      <td>2477</td>\n",
       "    </tr>\n",
       "    <tr>\n",
       "      <th>B0000YUXI0</th>\n",
       "      <td>2143</td>\n",
       "    </tr>\n",
       "    <tr>\n",
       "      <th>B003V265QW</th>\n",
       "      <td>2088</td>\n",
       "    </tr>\n",
       "    <tr>\n",
       "      <th>B000ZMBSPE</th>\n",
       "      <td>2041</td>\n",
       "    </tr>\n",
       "    <tr>\n",
       "      <th>B003BQ6QXK</th>\n",
       "      <td>1918</td>\n",
       "    </tr>\n",
       "    <tr>\n",
       "      <th>B004OHQR1Q</th>\n",
       "      <td>1885</td>\n",
       "    </tr>\n",
       "    <tr>\n",
       "      <th>B00121UVU0</th>\n",
       "      <td>1838</td>\n",
       "    </tr>\n",
       "    <tr>\n",
       "      <th>B000FS05VG</th>\n",
       "      <td>1589</td>\n",
       "    </tr>\n",
       "    <tr>\n",
       "      <th>B000142FVW</th>\n",
       "      <td>1558</td>\n",
       "    </tr>\n",
       "    <tr>\n",
       "      <th>B0046VGPHQ</th>\n",
       "      <td>1475</td>\n",
       "    </tr>\n",
       "    <tr>\n",
       "      <th>B001JKTTVQ</th>\n",
       "      <td>1468</td>\n",
       "    </tr>\n",
       "    <tr>\n",
       "      <th>B004INUWX0</th>\n",
       "      <td>1430</td>\n",
       "    </tr>\n",
       "    <tr>\n",
       "      <th>B000TKH6G2</th>\n",
       "      <td>1379</td>\n",
       "    </tr>\n",
       "    <tr>\n",
       "      <th>B0048O2R1E</th>\n",
       "      <td>1349</td>\n",
       "    </tr>\n",
       "    <tr>\n",
       "      <th>B00150LT40</th>\n",
       "      <td>1349</td>\n",
       "    </tr>\n",
       "    <tr>\n",
       "      <th>B003S516XO</th>\n",
       "      <td>1347</td>\n",
       "    </tr>\n",
       "    <tr>\n",
       "      <th>B00188IFHS</th>\n",
       "      <td>1341</td>\n",
       "    </tr>\n",
       "    <tr>\n",
       "      <th>B0056GDG90</th>\n",
       "      <td>1333</td>\n",
       "    </tr>\n",
       "    <tr>\n",
       "      <th>B00538TSMU</th>\n",
       "      <td>1330</td>\n",
       "    </tr>\n",
       "    <tr>\n",
       "      <th>B0069FDR96</th>\n",
       "      <td>1323</td>\n",
       "    </tr>\n",
       "    <tr>\n",
       "      <th>B006IBM21K</th>\n",
       "      <td>1163</td>\n",
       "    </tr>\n",
       "    <tr>\n",
       "      <th>B002WTC38O</th>\n",
       "      <td>1159</td>\n",
       "    </tr>\n",
       "    <tr>\n",
       "      <th>B006L1DNWY</th>\n",
       "      <td>1153</td>\n",
       "    </tr>\n",
       "    <tr>\n",
       "      <th>B001AO0WCG</th>\n",
       "      <td>1136</td>\n",
       "    </tr>\n",
       "    <tr>\n",
       "      <th>B007BLN17K</th>\n",
       "      <td>1135</td>\n",
       "    </tr>\n",
       "    <tr>\n",
       "      <th>B003UH0528</th>\n",
       "      <td>1108</td>\n",
       "    </tr>\n",
       "    <tr>\n",
       "      <th>B000UVZU1S</th>\n",
       "      <td>1105</td>\n",
       "    </tr>\n",
       "    <tr>\n",
       "      <th>B002LB75AO</th>\n",
       "      <td>1079</td>\n",
       "    </tr>\n",
       "    <tr>\n",
       "      <th>B000VPPUEA</th>\n",
       "      <td>1074</td>\n",
       "    </tr>\n",
       "    <tr>\n",
       "      <th>B004Z40048</th>\n",
       "      <td>1061</td>\n",
       "    </tr>\n",
       "    <tr>\n",
       "      <th>B00021DVCQ</th>\n",
       "      <td>1051</td>\n",
       "    </tr>\n",
       "    <tr>\n",
       "      <th>B0002JKPA4</th>\n",
       "      <td>1046</td>\n",
       "    </tr>\n",
       "    <tr>\n",
       "      <th>B000L596FE</th>\n",
       "      <td>992</td>\n",
       "    </tr>\n",
       "    <tr>\n",
       "      <th>B00639DLV2</th>\n",
       "      <td>981</td>\n",
       "    </tr>\n",
       "    <tr>\n",
       "      <th>B0058E3XJI</th>\n",
       "      <td>946</td>\n",
       "    </tr>\n",
       "    <tr>\n",
       "      <th>B007Q0WW0S</th>\n",
       "      <td>945</td>\n",
       "    </tr>\n",
       "    <tr>\n",
       "      <th>B008U1Q4DI</th>\n",
       "      <td>943</td>\n",
       "    </tr>\n",
       "    <tr>\n",
       "      <th>B005BF1M10</th>\n",
       "      <td>926</td>\n",
       "    </tr>\n",
       "    <tr>\n",
       "      <th>B008U12YV4</th>\n",
       "      <td>925</td>\n",
       "    </tr>\n",
       "    <tr>\n",
       "      <th>B002JPJ2ZS</th>\n",
       "      <td>899</td>\n",
       "    </tr>\n",
       "    <tr>\n",
       "      <th>B004VFXVJW</th>\n",
       "      <td>896</td>\n",
       "    </tr>\n",
       "    <tr>\n",
       "      <th>B000ASDGK8</th>\n",
       "      <td>888</td>\n",
       "    </tr>\n",
       "    <tr>\n",
       "      <th>B000HRVC5I</th>\n",
       "      <td>885</td>\n",
       "    </tr>\n",
       "    <tr>\n",
       "      <th>B00147FGJ8</th>\n",
       "      <td>883</td>\n",
       "    </tr>\n",
       "    <tr>\n",
       "      <th>B00I073WLE</th>\n",
       "      <td>880</td>\n",
       "    </tr>\n",
       "    <tr>\n",
       "      <th>B000OYJ9AO</th>\n",
       "      <td>865</td>\n",
       "    </tr>\n",
       "    <tr>\n",
       "      <th>B00016XJ4M</th>\n",
       "      <td>845</td>\n",
       "    </tr>\n",
       "    <tr>\n",
       "      <th>B004GQZX4M</th>\n",
       "      <td>834</td>\n",
       "    </tr>\n",
       "  </tbody>\n",
       "</table>\n",
       "</div>"
      ],
      "text/plain": [
       "            Rating\n",
       "ProductId         \n",
       "B001MA0QY2    7533\n",
       "B0009V1YR8    2869\n",
       "B0043OYFKU    2477\n",
       "B0000YUXI0    2143\n",
       "B003V265QW    2088\n",
       "B000ZMBSPE    2041\n",
       "B003BQ6QXK    1918\n",
       "B004OHQR1Q    1885\n",
       "B00121UVU0    1838\n",
       "B000FS05VG    1589\n",
       "B000142FVW    1558\n",
       "B0046VGPHQ    1475\n",
       "B001JKTTVQ    1468\n",
       "B004INUWX0    1430\n",
       "B000TKH6G2    1379\n",
       "B0048O2R1E    1349\n",
       "B00150LT40    1349\n",
       "B003S516XO    1347\n",
       "B00188IFHS    1341\n",
       "B0056GDG90    1333\n",
       "B00538TSMU    1330\n",
       "B0069FDR96    1323\n",
       "B006IBM21K    1163\n",
       "B002WTC38O    1159\n",
       "B006L1DNWY    1153\n",
       "B001AO0WCG    1136\n",
       "B007BLN17K    1135\n",
       "B003UH0528    1108\n",
       "B000UVZU1S    1105\n",
       "B002LB75AO    1079\n",
       "B000VPPUEA    1074\n",
       "B004Z40048    1061\n",
       "B00021DVCQ    1051\n",
       "B0002JKPA4    1046\n",
       "B000L596FE     992\n",
       "B00639DLV2     981\n",
       "B0058E3XJI     946\n",
       "B007Q0WW0S     945\n",
       "B008U1Q4DI     943\n",
       "B005BF1M10     926\n",
       "B008U12YV4     925\n",
       "B002JPJ2ZS     899\n",
       "B004VFXVJW     896\n",
       "B000ASDGK8     888\n",
       "B000HRVC5I     885\n",
       "B00147FGJ8     883\n",
       "B00I073WLE     880\n",
       "B000OYJ9AO     865\n",
       "B00016XJ4M     845\n",
       "B004GQZX4M     834"
      ]
     },
     "execution_count": 15,
     "metadata": {},
     "output_type": "execute_result"
    }
   ],
   "source": [
    "# Most 50 popular products based on the number of ratings\n",
    "popular_products = pd.DataFrame(amazon_ratings.groupby('ProductId')['Rating'].count())\n",
    "most_popular = popular_products.sort_values('Rating', ascending=False)\n",
    "most_popular.head(50)"
   ]
  },
  {
   "cell_type": "code",
   "execution_count": 16,
   "id": "392c011e-0700-4695-ae44-4aa5ac2f740b",
   "metadata": {},
   "outputs": [
    {
     "data": {
      "image/png": "[encoded data removed]",
      "text/plain": [
       "<Figure size 1500x800 with 1 Axes>"
      ]
     },
     "metadata": {},
     "output_type": "display_data"
    }
   ],
   "source": [
    "# Plot a bar chart of the top 50 most popular products based on the number of ratings\n",
    "ax = most_popular.head(50).plot(kind='bar', figsize=(15, 8), color=plt.cm.viridis(np.linspace(0, 1, 50)))\n",
    "\n",
    "ax.set_title('Top 50 Most Popular Products Based on Number of Ratings', fontsize=16)\n",
    "ax.set_xlabel('Product ID', fontsize=12)\n",
    "ax.set_ylabel('Number of Ratings', fontsize=12)\n",
    "ax.set_xticklabels(ax.get_xticklabels(), rotation=45, ha='right')\n",
    "plt.tight_layout()\n",
    "plt.show()"
   ]
  },
  {
   "cell_type": "markdown",
   "id": "7ba1cb13-e894-4408-89bd-7ad990e73f56",
   "metadata": {},
   "source": [
    "##### *The graph displays the most popular products sold by the business, ranked in descending order of sales. For instance, Product ID # B001MA0QY2 leads with over 7,000 sales, while the next most popular, Product ID # B0009V1YR8, has 3,000 sales.*"
   ]
  },
  {
   "cell_type": "markdown",
   "id": "f577e1a6-b14a-44db-b57b-1d40773463f6",
   "metadata": {},
   "source": [
    "### Recommendation System - Part II\n",
    "\n",
    "### Model-Based Collaborative Filtering System\n",
    "\n",
    "\r\n",
    "\r\n",
    "This system recommends items based on a user's purchase history and the similarity of ratings from other users who have purchased similar products. The model-based collaborative filtering approach is chosen for its ability to predict products for individual users by identifying patterns from multiple users' preferences.\r\n"
   ]
  },
  {
   "cell_type": "markdown",
   "id": "f1b9f37b-00b8-4b76-be2d-049c36e9ae81",
   "metadata": {},
   "source": [
    "#### Data Preparation"
   ]
  },
  {
   "cell_type": "code",
   "execution_count": 20,
   "id": "130fd852-09c7-4a6b-b659-01a801e62a10",
   "metadata": {},
   "outputs": [
    {
     "data": {
      "text/html": [
       "<div>\n",
       "<style scoped>\n",
       "    .dataframe tbody tr th:only-of-type {\n",
       "        vertical-align: middle;\n",
       "    }\n",
       "\n",
       "    .dataframe tbody tr th {\n",
       "        vertical-align: top;\n",
       "    }\n",
       "\n",
       "    .dataframe thead th {\n",
       "        text-align: right;\n",
       "    }\n",
       "</style>\n",
       "<table border=\"1\" class=\"dataframe\">\n",
       "  <thead>\n",
       "    <tr style=\"text-align: right;\">\n",
       "      <th></th>\n",
       "      <th>UserId</th>\n",
       "      <th>ProductId</th>\n",
       "      <th>Rating</th>\n",
       "      <th>Timestamp</th>\n",
       "    </tr>\n",
       "  </thead>\n",
       "  <tbody>\n",
       "    <tr>\n",
       "      <th>0</th>\n",
       "      <td>A39HTATAQ9V7YF</td>\n",
       "      <td>0205616461</td>\n",
       "      <td>5.0</td>\n",
       "      <td>1369699200</td>\n",
       "    </tr>\n",
       "    <tr>\n",
       "      <th>1</th>\n",
       "      <td>A3JM6GV9MNOF9X</td>\n",
       "      <td>0558925278</td>\n",
       "      <td>3.0</td>\n",
       "      <td>1355443200</td>\n",
       "    </tr>\n",
       "    <tr>\n",
       "      <th>2</th>\n",
       "      <td>A1Z513UWSAAO0F</td>\n",
       "      <td>0558925278</td>\n",
       "      <td>5.0</td>\n",
       "      <td>1404691200</td>\n",
       "    </tr>\n",
       "    <tr>\n",
       "      <th>3</th>\n",
       "      <td>A1WMRR494NWEWV</td>\n",
       "      <td>0733001998</td>\n",
       "      <td>4.0</td>\n",
       "      <td>1382572800</td>\n",
       "    </tr>\n",
       "    <tr>\n",
       "      <th>4</th>\n",
       "      <td>A3IAAVS479H7M7</td>\n",
       "      <td>0737104473</td>\n",
       "      <td>1.0</td>\n",
       "      <td>1274227200</td>\n",
       "    </tr>\n",
       "    <tr>\n",
       "      <th>...</th>\n",
       "      <td>...</td>\n",
       "      <td>...</td>\n",
       "      <td>...</td>\n",
       "      <td>...</td>\n",
       "    </tr>\n",
       "    <tr>\n",
       "      <th>9995</th>\n",
       "      <td>A9V4K2YJ2DWTQ</td>\n",
       "      <td>B000052YQ2</td>\n",
       "      <td>3.0</td>\n",
       "      <td>1396396800</td>\n",
       "    </tr>\n",
       "    <tr>\n",
       "      <th>9996</th>\n",
       "      <td>A3033CXHQ0NF8J</td>\n",
       "      <td>B000052YQ2</td>\n",
       "      <td>5.0</td>\n",
       "      <td>1291248000</td>\n",
       "    </tr>\n",
       "    <tr>\n",
       "      <th>9997</th>\n",
       "      <td>A1Z66KHEXSF3L5</td>\n",
       "      <td>B000052YQ2</td>\n",
       "      <td>3.0</td>\n",
       "      <td>1361577600</td>\n",
       "    </tr>\n",
       "    <tr>\n",
       "      <th>9998</th>\n",
       "      <td>A1Y7D2DRVBN59D</td>\n",
       "      <td>B000052YQ2</td>\n",
       "      <td>5.0</td>\n",
       "      <td>1402099200</td>\n",
       "    </tr>\n",
       "    <tr>\n",
       "      <th>9999</th>\n",
       "      <td>APYKGTU0LFICH</td>\n",
       "      <td>B000052YQ2</td>\n",
       "      <td>2.0</td>\n",
       "      <td>1387238400</td>\n",
       "    </tr>\n",
       "  </tbody>\n",
       "</table>\n",
       "<p>10000 rows × 4 columns</p>\n",
       "</div>"
      ],
      "text/plain": [
       "              UserId   ProductId  Rating   Timestamp\n",
       "0     A39HTATAQ9V7YF  0205616461     5.0  1369699200\n",
       "1     A3JM6GV9MNOF9X  0558925278     3.0  1355443200\n",
       "2     A1Z513UWSAAO0F  0558925278     5.0  1404691200\n",
       "3     A1WMRR494NWEWV  0733001998     4.0  1382572800\n",
       "4     A3IAAVS479H7M7  0737104473     1.0  1274227200\n",
       "...              ...         ...     ...         ...\n",
       "9995   A9V4K2YJ2DWTQ  B000052YQ2     3.0  1396396800\n",
       "9996  A3033CXHQ0NF8J  B000052YQ2     5.0  1291248000\n",
       "9997  A1Z66KHEXSF3L5  B000052YQ2     3.0  1361577600\n",
       "9998  A1Y7D2DRVBN59D  B000052YQ2     5.0  1402099200\n",
       "9999   APYKGTU0LFICH  B000052YQ2     2.0  1387238400\n",
       "\n",
       "[10000 rows x 4 columns]"
      ]
     },
     "execution_count": 20,
     "metadata": {},
     "output_type": "execute_result"
    }
   ],
   "source": [
    "# Subset of Amazon Ratings\n",
    "amazon_ratings1 = amazon_ratings.head(10000)\n",
    "amazon_ratings1"
   ]
  },
  {
   "cell_type": "markdown",
   "id": "e703a3d3-64c8-4d04-8981-4708c584c677",
   "metadata": {},
   "source": [
    "#### Utility Matrix Creation"
   ]
  },
  {
   "cell_type": "code",
   "execution_count": 22,
   "id": "59c4739d-92c9-4c42-8f5e-3e805f68e028",
   "metadata": {},
   "outputs": [
    {
     "data": {
      "text/html": [
       "<div>\n",
       "<style scoped>\n",
       "    .dataframe tbody tr th:only-of-type {\n",
       "        vertical-align: middle;\n",
       "    }\n",
       "\n",
       "    .dataframe tbody tr th {\n",
       "        vertical-align: top;\n",
       "    }\n",
       "\n",
       "    .dataframe thead th {\n",
       "        text-align: right;\n",
       "    }\n",
       "</style>\n",
       "<table border=\"1\" class=\"dataframe\">\n",
       "  <thead>\n",
       "    <tr style=\"text-align: right;\">\n",
       "      <th>ProductId</th>\n",
       "      <th>0205616461</th>\n",
       "      <th>0558925278</th>\n",
       "      <th>0733001998</th>\n",
       "      <th>0737104473</th>\n",
       "      <th>0762451459</th>\n",
       "      <th>1304139212</th>\n",
       "      <th>1304139220</th>\n",
       "      <th>130414089X</th>\n",
       "      <th>130414643X</th>\n",
       "      <th>1304146537</th>\n",
       "      <th>...</th>\n",
       "      <th>B000052YPE</th>\n",
       "      <th>B000052YPF</th>\n",
       "      <th>B000052YPG</th>\n",
       "      <th>B000052YPH</th>\n",
       "      <th>B000052YPM</th>\n",
       "      <th>B000052YPU</th>\n",
       "      <th>B000052YPV</th>\n",
       "      <th>B000052YPY</th>\n",
       "      <th>B000052YQ0</th>\n",
       "      <th>B000052YQ2</th>\n",
       "    </tr>\n",
       "    <tr>\n",
       "      <th>UserId</th>\n",
       "      <th></th>\n",
       "      <th></th>\n",
       "      <th></th>\n",
       "      <th></th>\n",
       "      <th></th>\n",
       "      <th></th>\n",
       "      <th></th>\n",
       "      <th></th>\n",
       "      <th></th>\n",
       "      <th></th>\n",
       "      <th></th>\n",
       "      <th></th>\n",
       "      <th></th>\n",
       "      <th></th>\n",
       "      <th></th>\n",
       "      <th></th>\n",
       "      <th></th>\n",
       "      <th></th>\n",
       "      <th></th>\n",
       "      <th></th>\n",
       "      <th></th>\n",
       "    </tr>\n",
       "  </thead>\n",
       "  <tbody>\n",
       "    <tr>\n",
       "      <th>A00205921JHJK5X9LNP42</th>\n",
       "      <td>0.0</td>\n",
       "      <td>0.0</td>\n",
       "      <td>0.0</td>\n",
       "      <td>0.0</td>\n",
       "      <td>0.0</td>\n",
       "      <td>0.0</td>\n",
       "      <td>0.0</td>\n",
       "      <td>0.0</td>\n",
       "      <td>0.0</td>\n",
       "      <td>0.0</td>\n",
       "      <td>...</td>\n",
       "      <td>0.0</td>\n",
       "      <td>0.0</td>\n",
       "      <td>0.0</td>\n",
       "      <td>0.0</td>\n",
       "      <td>0.0</td>\n",
       "      <td>0.0</td>\n",
       "      <td>0.0</td>\n",
       "      <td>0.0</td>\n",
       "      <td>0.0</td>\n",
       "      <td>0.0</td>\n",
       "    </tr>\n",
       "    <tr>\n",
       "      <th>A024581134CV80ZBLIZTZ</th>\n",
       "      <td>0.0</td>\n",
       "      <td>0.0</td>\n",
       "      <td>0.0</td>\n",
       "      <td>0.0</td>\n",
       "      <td>0.0</td>\n",
       "      <td>0.0</td>\n",
       "      <td>0.0</td>\n",
       "      <td>0.0</td>\n",
       "      <td>0.0</td>\n",
       "      <td>0.0</td>\n",
       "      <td>...</td>\n",
       "      <td>0.0</td>\n",
       "      <td>0.0</td>\n",
       "      <td>0.0</td>\n",
       "      <td>0.0</td>\n",
       "      <td>0.0</td>\n",
       "      <td>0.0</td>\n",
       "      <td>0.0</td>\n",
       "      <td>0.0</td>\n",
       "      <td>0.0</td>\n",
       "      <td>0.0</td>\n",
       "    </tr>\n",
       "    <tr>\n",
       "      <th>A03056581JJIOL5FSKJY7</th>\n",
       "      <td>0.0</td>\n",
       "      <td>0.0</td>\n",
       "      <td>0.0</td>\n",
       "      <td>0.0</td>\n",
       "      <td>0.0</td>\n",
       "      <td>0.0</td>\n",
       "      <td>0.0</td>\n",
       "      <td>0.0</td>\n",
       "      <td>0.0</td>\n",
       "      <td>0.0</td>\n",
       "      <td>...</td>\n",
       "      <td>0.0</td>\n",
       "      <td>0.0</td>\n",
       "      <td>0.0</td>\n",
       "      <td>0.0</td>\n",
       "      <td>0.0</td>\n",
       "      <td>0.0</td>\n",
       "      <td>0.0</td>\n",
       "      <td>0.0</td>\n",
       "      <td>0.0</td>\n",
       "      <td>0.0</td>\n",
       "    </tr>\n",
       "    <tr>\n",
       "      <th>A03099101ZRK4K607JVHH</th>\n",
       "      <td>0.0</td>\n",
       "      <td>0.0</td>\n",
       "      <td>0.0</td>\n",
       "      <td>0.0</td>\n",
       "      <td>0.0</td>\n",
       "      <td>0.0</td>\n",
       "      <td>0.0</td>\n",
       "      <td>0.0</td>\n",
       "      <td>0.0</td>\n",
       "      <td>0.0</td>\n",
       "      <td>...</td>\n",
       "      <td>0.0</td>\n",
       "      <td>0.0</td>\n",
       "      <td>0.0</td>\n",
       "      <td>0.0</td>\n",
       "      <td>0.0</td>\n",
       "      <td>0.0</td>\n",
       "      <td>0.0</td>\n",
       "      <td>0.0</td>\n",
       "      <td>0.0</td>\n",
       "      <td>0.0</td>\n",
       "    </tr>\n",
       "    <tr>\n",
       "      <th>A0505229A7NSH3FRXRR4</th>\n",
       "      <td>0.0</td>\n",
       "      <td>0.0</td>\n",
       "      <td>0.0</td>\n",
       "      <td>0.0</td>\n",
       "      <td>0.0</td>\n",
       "      <td>0.0</td>\n",
       "      <td>0.0</td>\n",
       "      <td>0.0</td>\n",
       "      <td>0.0</td>\n",
       "      <td>0.0</td>\n",
       "      <td>...</td>\n",
       "      <td>0.0</td>\n",
       "      <td>0.0</td>\n",
       "      <td>0.0</td>\n",
       "      <td>0.0</td>\n",
       "      <td>0.0</td>\n",
       "      <td>0.0</td>\n",
       "      <td>0.0</td>\n",
       "      <td>0.0</td>\n",
       "      <td>0.0</td>\n",
       "      <td>0.0</td>\n",
       "    </tr>\n",
       "  </tbody>\n",
       "</table>\n",
       "<p>5 rows × 886 columns</p>\n",
       "</div>"
      ],
      "text/plain": [
       "ProductId              0205616461  0558925278  0733001998  0737104473  \\\n",
       "UserId                                                                  \n",
       "A00205921JHJK5X9LNP42         0.0         0.0         0.0         0.0   \n",
       "A024581134CV80ZBLIZTZ         0.0         0.0         0.0         0.0   \n",
       "A03056581JJIOL5FSKJY7         0.0         0.0         0.0         0.0   \n",
       "A03099101ZRK4K607JVHH         0.0         0.0         0.0         0.0   \n",
       "A0505229A7NSH3FRXRR4          0.0         0.0         0.0         0.0   \n",
       "\n",
       "ProductId              0762451459  1304139212  1304139220  130414089X  \\\n",
       "UserId                                                                  \n",
       "A00205921JHJK5X9LNP42         0.0         0.0         0.0         0.0   \n",
       "A024581134CV80ZBLIZTZ         0.0         0.0         0.0         0.0   \n",
       "A03056581JJIOL5FSKJY7         0.0         0.0         0.0         0.0   \n",
       "A03099101ZRK4K607JVHH         0.0         0.0         0.0         0.0   \n",
       "A0505229A7NSH3FRXRR4          0.0         0.0         0.0         0.0   \n",
       "\n",
       "ProductId              130414643X  1304146537  ...  B000052YPE  B000052YPF  \\\n",
       "UserId                                         ...                           \n",
       "A00205921JHJK5X9LNP42         0.0         0.0  ...         0.0         0.0   \n",
       "A024581134CV80ZBLIZTZ         0.0         0.0  ...         0.0         0.0   \n",
       "A03056581JJIOL5FSKJY7         0.0         0.0  ...         0.0         0.0   \n",
       "A03099101ZRK4K607JVHH         0.0         0.0  ...         0.0         0.0   \n",
       "A0505229A7NSH3FRXRR4          0.0         0.0  ...         0.0         0.0   \n",
       "\n",
       "ProductId              B000052YPG  B000052YPH  B000052YPM  B000052YPU  \\\n",
       "UserId                                                                  \n",
       "A00205921JHJK5X9LNP42         0.0         0.0         0.0         0.0   \n",
       "A024581134CV80ZBLIZTZ         0.0         0.0         0.0         0.0   \n",
       "A03056581JJIOL5FSKJY7         0.0         0.0         0.0         0.0   \n",
       "A03099101ZRK4K607JVHH         0.0         0.0         0.0         0.0   \n",
       "A0505229A7NSH3FRXRR4          0.0         0.0         0.0         0.0   \n",
       "\n",
       "ProductId              B000052YPV  B000052YPY  B000052YQ0  B000052YQ2  \n",
       "UserId                                                                 \n",
       "A00205921JHJK5X9LNP42         0.0         0.0         0.0         0.0  \n",
       "A024581134CV80ZBLIZTZ         0.0         0.0         0.0         0.0  \n",
       "A03056581JJIOL5FSKJY7         0.0         0.0         0.0         0.0  \n",
       "A03099101ZRK4K607JVHH         0.0         0.0         0.0         0.0  \n",
       "A0505229A7NSH3FRXRR4          0.0         0.0         0.0         0.0  \n",
       "\n",
       "[5 rows x 886 columns]"
      ]
     },
     "execution_count": 22,
     "metadata": {},
     "output_type": "execute_result"
    }
   ],
   "source": [
    "# Create a utility matrix for ratings with users as rows and products as columns, filling missing values with 0\n",
    "ratings_utility_matrix = amazon_ratings1.pivot_table(values='Rating', index='UserId', columns='ProductId', fill_value=0)\n",
    "ratings_utility_matrix.head()"
   ]
  },
  {
   "cell_type": "markdown",
   "id": "b4ea54a3-9ee2-4553-ab28-81b280fed5b6",
   "metadata": {},
   "source": [
    "##### *A utility matrix displays user-item preferences, with rows representing users and columns representing items. Each cell indicates a rating or preference. Due to users interacting with only a subset of items, the matrix is sparse, with many cells containing unknown values. As expected, the utility matrix obtained is sparse; unknown values have been filled with 0.*"
   ]
  },
  {
   "cell_type": "code",
   "execution_count": 24,
   "id": "8a7b2414-a0ee-4b90-8749-6f2894a03f8c",
   "metadata": {},
   "outputs": [
    {
     "data": {
      "text/plain": [
       "(9697, 886)"
      ]
     },
     "execution_count": 24,
     "metadata": {},
     "output_type": "execute_result"
    }
   ],
   "source": [
    "# Display the shape (number of rows and columns) of the ratings utility matrix\n",
    "ratings_utility_matrix.shape"
   ]
  },
  {
   "cell_type": "code",
   "execution_count": 25,
   "id": "b4c8b5b8-d66d-48a5-ab58-d6665378094b",
   "metadata": {},
   "outputs": [
    {
     "data": {
      "text/html": [
       "<div>\n",
       "<style scoped>\n",
       "    .dataframe tbody tr th:only-of-type {\n",
       "        vertical-align: middle;\n",
       "    }\n",
       "\n",
       "    .dataframe tbody tr th {\n",
       "        vertical-align: top;\n",
       "    }\n",
       "\n",
       "    .dataframe thead th {\n",
       "        text-align: right;\n",
       "    }\n",
       "</style>\n",
       "<table border=\"1\" class=\"dataframe\">\n",
       "  <thead>\n",
       "    <tr style=\"text-align: right;\">\n",
       "      <th>UserId</th>\n",
       "      <th>A00205921JHJK5X9LNP42</th>\n",
       "      <th>A024581134CV80ZBLIZTZ</th>\n",
       "      <th>A03056581JJIOL5FSKJY7</th>\n",
       "      <th>A03099101ZRK4K607JVHH</th>\n",
       "      <th>A0505229A7NSH3FRXRR4</th>\n",
       "      <th>A05492663T95KW63BR75K</th>\n",
       "      <th>A059547920Q3LZVFHLPI3</th>\n",
       "      <th>A07410232KYRFR25CIUGJ</th>\n",
       "      <th>A082796624UNM47DSAI6K</th>\n",
       "      <th>A0864963DOAY7LXGS5I6</th>\n",
       "      <th>...</th>\n",
       "      <th>AZW1HXXYAC15B</th>\n",
       "      <th>AZWRTJPN7NXT</th>\n",
       "      <th>AZWTXHXZXFAYP</th>\n",
       "      <th>AZYQEFB9Y5N22</th>\n",
       "      <th>AZZHB6U54UDYW</th>\n",
       "      <th>AZZHJZP4GQPPZ</th>\n",
       "      <th>AZZNK89PXD006</th>\n",
       "      <th>AZZOFVMQC0BJG</th>\n",
       "      <th>AZZQXL8VDCFTV</th>\n",
       "      <th>AZZTJQ7CQZUD8</th>\n",
       "    </tr>\n",
       "    <tr>\n",
       "      <th>ProductId</th>\n",
       "      <th></th>\n",
       "      <th></th>\n",
       "      <th></th>\n",
       "      <th></th>\n",
       "      <th></th>\n",
       "      <th></th>\n",
       "      <th></th>\n",
       "      <th></th>\n",
       "      <th></th>\n",
       "      <th></th>\n",
       "      <th></th>\n",
       "      <th></th>\n",
       "      <th></th>\n",
       "      <th></th>\n",
       "      <th></th>\n",
       "      <th></th>\n",
       "      <th></th>\n",
       "      <th></th>\n",
       "      <th></th>\n",
       "      <th></th>\n",
       "      <th></th>\n",
       "    </tr>\n",
       "  </thead>\n",
       "  <tbody>\n",
       "    <tr>\n",
       "      <th>0205616461</th>\n",
       "      <td>0.0</td>\n",
       "      <td>0.0</td>\n",
       "      <td>0.0</td>\n",
       "      <td>0.0</td>\n",
       "      <td>0.0</td>\n",
       "      <td>0.0</td>\n",
       "      <td>0.0</td>\n",
       "      <td>0.0</td>\n",
       "      <td>0.0</td>\n",
       "      <td>0.0</td>\n",
       "      <td>...</td>\n",
       "      <td>0.0</td>\n",
       "      <td>0.0</td>\n",
       "      <td>0.0</td>\n",
       "      <td>0.0</td>\n",
       "      <td>0.0</td>\n",
       "      <td>0.0</td>\n",
       "      <td>0.0</td>\n",
       "      <td>0.0</td>\n",
       "      <td>0.0</td>\n",
       "      <td>0.0</td>\n",
       "    </tr>\n",
       "    <tr>\n",
       "      <th>0558925278</th>\n",
       "      <td>0.0</td>\n",
       "      <td>0.0</td>\n",
       "      <td>0.0</td>\n",
       "      <td>0.0</td>\n",
       "      <td>0.0</td>\n",
       "      <td>0.0</td>\n",
       "      <td>0.0</td>\n",
       "      <td>0.0</td>\n",
       "      <td>0.0</td>\n",
       "      <td>0.0</td>\n",
       "      <td>...</td>\n",
       "      <td>0.0</td>\n",
       "      <td>0.0</td>\n",
       "      <td>0.0</td>\n",
       "      <td>0.0</td>\n",
       "      <td>0.0</td>\n",
       "      <td>0.0</td>\n",
       "      <td>0.0</td>\n",
       "      <td>0.0</td>\n",
       "      <td>0.0</td>\n",
       "      <td>0.0</td>\n",
       "    </tr>\n",
       "    <tr>\n",
       "      <th>0733001998</th>\n",
       "      <td>0.0</td>\n",
       "      <td>0.0</td>\n",
       "      <td>0.0</td>\n",
       "      <td>0.0</td>\n",
       "      <td>0.0</td>\n",
       "      <td>0.0</td>\n",
       "      <td>0.0</td>\n",
       "      <td>0.0</td>\n",
       "      <td>0.0</td>\n",
       "      <td>0.0</td>\n",
       "      <td>...</td>\n",
       "      <td>0.0</td>\n",
       "      <td>0.0</td>\n",
       "      <td>0.0</td>\n",
       "      <td>0.0</td>\n",
       "      <td>0.0</td>\n",
       "      <td>0.0</td>\n",
       "      <td>0.0</td>\n",
       "      <td>0.0</td>\n",
       "      <td>0.0</td>\n",
       "      <td>0.0</td>\n",
       "    </tr>\n",
       "    <tr>\n",
       "      <th>0737104473</th>\n",
       "      <td>0.0</td>\n",
       "      <td>0.0</td>\n",
       "      <td>0.0</td>\n",
       "      <td>0.0</td>\n",
       "      <td>0.0</td>\n",
       "      <td>0.0</td>\n",
       "      <td>0.0</td>\n",
       "      <td>0.0</td>\n",
       "      <td>0.0</td>\n",
       "      <td>0.0</td>\n",
       "      <td>...</td>\n",
       "      <td>0.0</td>\n",
       "      <td>0.0</td>\n",
       "      <td>0.0</td>\n",
       "      <td>0.0</td>\n",
       "      <td>0.0</td>\n",
       "      <td>0.0</td>\n",
       "      <td>0.0</td>\n",
       "      <td>0.0</td>\n",
       "      <td>0.0</td>\n",
       "      <td>0.0</td>\n",
       "    </tr>\n",
       "    <tr>\n",
       "      <th>0762451459</th>\n",
       "      <td>0.0</td>\n",
       "      <td>0.0</td>\n",
       "      <td>0.0</td>\n",
       "      <td>0.0</td>\n",
       "      <td>0.0</td>\n",
       "      <td>0.0</td>\n",
       "      <td>0.0</td>\n",
       "      <td>0.0</td>\n",
       "      <td>0.0</td>\n",
       "      <td>0.0</td>\n",
       "      <td>...</td>\n",
       "      <td>0.0</td>\n",
       "      <td>0.0</td>\n",
       "      <td>0.0</td>\n",
       "      <td>0.0</td>\n",
       "      <td>0.0</td>\n",
       "      <td>0.0</td>\n",
       "      <td>0.0</td>\n",
       "      <td>0.0</td>\n",
       "      <td>0.0</td>\n",
       "      <td>0.0</td>\n",
       "    </tr>\n",
       "  </tbody>\n",
       "</table>\n",
       "<p>5 rows × 9697 columns</p>\n",
       "</div>"
      ],
      "text/plain": [
       "UserId      A00205921JHJK5X9LNP42  A024581134CV80ZBLIZTZ  \\\n",
       "ProductId                                                  \n",
       "0205616461                    0.0                    0.0   \n",
       "0558925278                    0.0                    0.0   \n",
       "0733001998                    0.0                    0.0   \n",
       "0737104473                    0.0                    0.0   \n",
       "0762451459                    0.0                    0.0   \n",
       "\n",
       "UserId      A03056581JJIOL5FSKJY7  A03099101ZRK4K607JVHH  \\\n",
       "ProductId                                                  \n",
       "0205616461                    0.0                    0.0   \n",
       "0558925278                    0.0                    0.0   \n",
       "0733001998                    0.0                    0.0   \n",
       "0737104473                    0.0                    0.0   \n",
       "0762451459                    0.0                    0.0   \n",
       "\n",
       "UserId      A0505229A7NSH3FRXRR4  A05492663T95KW63BR75K  \\\n",
       "ProductId                                                 \n",
       "0205616461                   0.0                    0.0   \n",
       "0558925278                   0.0                    0.0   \n",
       "0733001998                   0.0                    0.0   \n",
       "0737104473                   0.0                    0.0   \n",
       "0762451459                   0.0                    0.0   \n",
       "\n",
       "UserId      A059547920Q3LZVFHLPI3  A07410232KYRFR25CIUGJ  \\\n",
       "ProductId                                                  \n",
       "0205616461                    0.0                    0.0   \n",
       "0558925278                    0.0                    0.0   \n",
       "0733001998                    0.0                    0.0   \n",
       "0737104473                    0.0                    0.0   \n",
       "0762451459                    0.0                    0.0   \n",
       "\n",
       "UserId      A082796624UNM47DSAI6K  A0864963DOAY7LXGS5I6  ...  AZW1HXXYAC15B  \\\n",
       "ProductId                                                ...                  \n",
       "0205616461                    0.0                   0.0  ...            0.0   \n",
       "0558925278                    0.0                   0.0  ...            0.0   \n",
       "0733001998                    0.0                   0.0  ...            0.0   \n",
       "0737104473                    0.0                   0.0  ...            0.0   \n",
       "0762451459                    0.0                   0.0  ...            0.0   \n",
       "\n",
       "UserId      AZWRTJPN7NXT  AZWTXHXZXFAYP  AZYQEFB9Y5N22  AZZHB6U54UDYW  \\\n",
       "ProductId                                                               \n",
       "0205616461           0.0            0.0            0.0            0.0   \n",
       "0558925278           0.0            0.0            0.0            0.0   \n",
       "0733001998           0.0            0.0            0.0            0.0   \n",
       "0737104473           0.0            0.0            0.0            0.0   \n",
       "0762451459           0.0            0.0            0.0            0.0   \n",
       "\n",
       "UserId      AZZHJZP4GQPPZ  AZZNK89PXD006  AZZOFVMQC0BJG  AZZQXL8VDCFTV  \\\n",
       "ProductId                                                                \n",
       "0205616461            0.0            0.0            0.0            0.0   \n",
       "0558925278            0.0            0.0            0.0            0.0   \n",
       "0733001998            0.0            0.0            0.0            0.0   \n",
       "0737104473            0.0            0.0            0.0            0.0   \n",
       "0762451459            0.0            0.0            0.0            0.0   \n",
       "\n",
       "UserId      AZZTJQ7CQZUD8  \n",
       "ProductId                  \n",
       "0205616461            0.0  \n",
       "0558925278            0.0  \n",
       "0733001998            0.0  \n",
       "0737104473            0.0  \n",
       "0762451459            0.0  \n",
       "\n",
       "[5 rows x 9697 columns]"
      ]
     },
     "execution_count": 25,
     "metadata": {},
     "output_type": "execute_result"
    }
   ],
   "source": [
    "# Transpose the ratings utility matrix to have products as rows and users as columns\n",
    "X = ratings_utility_matrix.T\n",
    "X.head()"
   ]
  },
  {
   "cell_type": "code",
   "execution_count": 26,
   "id": "8bc486d1-3637-4fd6-be8d-eb3e76939247",
   "metadata": {},
   "outputs": [
    {
     "data": {
      "text/plain": [
       "(886, 9697)"
      ]
     },
     "execution_count": 26,
     "metadata": {},
     "output_type": "execute_result"
    }
   ],
   "source": [
    "# Display the shape (number of rows and columns) of the transposed ratings utility matrix\n",
    "X.shape"
   ]
  },
  {
   "cell_type": "code",
   "execution_count": 27,
   "id": "fdee2901-9665-48d5-b5b5-f5fe9788da7e",
   "metadata": {},
   "outputs": [],
   "source": [
    "# Create a copy of the transposed ratings utility matrix\n",
    "X1 = X"
   ]
  },
  {
   "cell_type": "markdown",
   "id": "53a4d934-085e-4dbd-8bec-6bee45c71f77",
   "metadata": {},
   "source": [
    "#### Dimensionality Reduction\n"
   ]
  },
  {
   "cell_type": "code",
   "execution_count": 29,
   "id": "20538ea2-ae53-426e-bd77-cb33cb747af3",
   "metadata": {},
   "outputs": [
    {
     "data": {
      "text/plain": [
       "(886, 10)"
      ]
     },
     "execution_count": 29,
     "metadata": {},
     "output_type": "execute_result"
    }
   ],
   "source": [
    "# Apply Truncated Singular Value Decomposition (SVD) to reduce the dimensionality of the matrix to 10 components\n",
    "SVD = TruncatedSVD(n_components=10)\n",
    "decomposed_matrix = SVD.fit_transform(X)\n",
    "decomposed_matrix.shape"
   ]
  },
  {
   "cell_type": "markdown",
   "id": "8e16359b-f43c-47f4-9806-784f50492552",
   "metadata": {},
   "source": [
    "#### Correlation Analysis"
   ]
  },
  {
   "cell_type": "code",
   "execution_count": 31,
   "id": "1ba6a43c-2794-4295-bc5d-f6d969bcbc25",
   "metadata": {},
   "outputs": [
    {
     "data": {
      "text/plain": [
       "(886, 886)"
      ]
     },
     "execution_count": 31,
     "metadata": {},
     "output_type": "execute_result"
    }
   ],
   "source": [
    "# Compute the correlation matrix of the decomposed matrix to understand the relationships between components\n",
    "correlation_matrix = np.corrcoef(decomposed_matrix)\n",
    "correlation_matrix.shape"
   ]
  },
  {
   "cell_type": "markdown",
   "id": "ada5ef16-5fce-450a-b31e-850e24d49a8b",
   "metadata": {},
   "source": [
    "#### Recommendation Generation"
   ]
  },
  {
   "cell_type": "code",
   "execution_count": 33,
   "id": "f81c2873-c591-4c43-b6b4-bbc9b4b86110",
   "metadata": {},
   "outputs": [
    {
     "name": "stdout",
     "output_type": "stream",
     "text": [
      "B000001K4R\n"
     ]
    }
   ],
   "source": [
    "# Retrieve the index value for the random index of the transposed ratings utility matrix\n",
    "import random\n",
    "\n",
    "random_index = random.randint(0, 885)\n",
    "random_product = X.index[random_index]\n",
    "print(random_product)"
   ]
  },
  {
   "cell_type": "markdown",
   "id": "75652e9f-0335-4df7-8b7a-fccc128ae0a2",
   "metadata": {},
   "source": [
    "Note: Here, we are taking any random_product for analysis. "
   ]
  },
  {
   "cell_type": "code",
   "execution_count": 35,
   "id": "9c837254-8594-4379-8791-ef1e4f54a226",
   "metadata": {},
   "outputs": [
    {
     "data": {
      "text/plain": [
       "648"
      ]
     },
     "execution_count": 35,
     "metadata": {},
     "output_type": "execute_result"
    }
   ],
   "source": [
    "# Find the index of a specific product ID in the list of product names\n",
    "i = random_product\n",
    "\n",
    "product_names = list(X.index)\n",
    "product_ID = product_names.index(i)\n",
    "product_ID"
   ]
  },
  {
   "cell_type": "code",
   "execution_count": 36,
   "id": "b981920d-5a72-4f78-840a-455f5794c9c5",
   "metadata": {},
   "outputs": [
    {
     "data": {
      "text/plain": [
       "(886,)"
      ]
     },
     "execution_count": 36,
     "metadata": {},
     "output_type": "execute_result"
    }
   ],
   "source": [
    "# Extract the correlation values for the specific product ID from the correlation matrix\n",
    "correlation_product_ID = correlation_matrix[product_ID]\n",
    "correlation_product_ID.shape"
   ]
  },
  {
   "cell_type": "code",
   "execution_count": 37,
   "id": "fefe7a0a-2463-418d-9dcb-2f71630ae816",
   "metadata": {},
   "outputs": [
    {
     "data": {
      "text/plain": [
       "['5357956227',\n",
       " '6040652705',\n",
       " '753865058X',\n",
       " '7899120217',\n",
       " '8901134322',\n",
       " '9746427962',\n",
       " '9758086243',\n",
       " '9788072097',\n",
       " '9788073247',\n",
       " '978807328X']"
      ]
     },
     "execution_count": 37,
     "metadata": {},
     "output_type": "execute_result"
    }
   ],
   "source": [
    "# Recommend products with a correlation score greater than 0.90 to the specific product\n",
    "Recommend = list(X.index[correlation_product_ID > 0.90])\n",
    "\n",
    "# Removes the item already bought by the customer\n",
    "Recommend.remove(i) \n",
    "\n",
    "Recommend[0:10]"
   ]
  },
  {
   "cell_type": "code",
   "execution_count": 38,
   "id": "e2a9e1e3-ce24-474d-968d-d4c82cbc7d17",
   "metadata": {},
   "outputs": [
    {
     "name": "stdout",
     "output_type": "stream",
     "text": [
      "Here are the top 10 products to be displayed by the recommendation system to the customer who bought B000001K4R , based on the purchase history of other customers on the website: ['5357956227', '6040652705', '753865058X', '7899120217', '8901134322', '9746427962', '9758086243', '9788072097', '9788073247', '978807328X']\n"
     ]
    }
   ],
   "source": [
    "print(\"Here are the top 10 products to be displayed by the recommendation system to the customer who bought\", random_product, \", based on the purchase history of other customers on the website:\", Recommend[0:10])\n"
   ]
  },
  {
   "cell_type": "markdown",
   "id": "85c86d16-ef29-443e-a292-b9f34cdaf1a9",
   "metadata": {},
   "source": [
    "### Recommendation System - Part III\n",
    "### Initial Setup Recommendations\n",
    "For businesses lacking user-item purchase history, a search engine-based recommendation system can be implemented. Recommendations can be generated by analyzing and clustering product descriptions textually.\n",
    "\n",
    "**Dataset:** [Home Depots Product Dataset from Kaggle](https://www.kaggle.com/c/home-depot-product-search-relevance/data?select=product_descriptions.csv.zip)\n"
   ]
  },
  {
   "cell_type": "markdown",
   "id": "e76776c6-bbfb-46e2-977e-1b1c0d2919a7",
   "metadata": {},
   "source": [
    "#### Loading and Inspecting the Data"
   ]
  },
  {
   "cell_type": "code",
   "execution_count": 41,
   "id": "fe639145-e8b8-43d2-aba4-57abfb6e0c9a",
   "metadata": {},
   "outputs": [],
   "source": [
    "# Import libraries\n",
    "from sklearn.feature_extraction.text import TfidfVectorizer, CountVectorizer\n",
    "from sklearn.neighbors import NearestNeighbors\n",
    "from sklearn.cluster import KMeans\n",
    "from sklearn.metrics import adjusted_rand_score"
   ]
  },
  {
   "cell_type": "code",
   "execution_count": 42,
   "id": "6f534e24-689d-4eb0-9413-8b489c1c8fc0",
   "metadata": {},
   "outputs": [],
   "source": [
    "# Load the dataset\n",
    "product_descriptions = pd.read_csv('product_descriptions.csv')"
   ]
  },
  {
   "cell_type": "code",
   "execution_count": 43,
   "id": "5738ce69-3ddc-4158-b02d-51b3ec54fb42",
   "metadata": {},
   "outputs": [
    {
     "data": {
      "text/html": [
       "<div>\n",
       "<style scoped>\n",
       "    .dataframe tbody tr th:only-of-type {\n",
       "        vertical-align: middle;\n",
       "    }\n",
       "\n",
       "    .dataframe tbody tr th {\n",
       "        vertical-align: top;\n",
       "    }\n",
       "\n",
       "    .dataframe thead th {\n",
       "        text-align: right;\n",
       "    }\n",
       "</style>\n",
       "<table border=\"1\" class=\"dataframe\">\n",
       "  <thead>\n",
       "    <tr style=\"text-align: right;\">\n",
       "      <th></th>\n",
       "      <th>product_uid</th>\n",
       "      <th>product_description</th>\n",
       "    </tr>\n",
       "  </thead>\n",
       "  <tbody>\n",
       "    <tr>\n",
       "      <th>0</th>\n",
       "      <td>100001</td>\n",
       "      <td>Not only do angles make joints stronger, they ...</td>\n",
       "    </tr>\n",
       "    <tr>\n",
       "      <th>1</th>\n",
       "      <td>100002</td>\n",
       "      <td>BEHR Premium Textured DECKOVER is an innovativ...</td>\n",
       "    </tr>\n",
       "    <tr>\n",
       "      <th>2</th>\n",
       "      <td>100003</td>\n",
       "      <td>Classic architecture meets contemporary design...</td>\n",
       "    </tr>\n",
       "    <tr>\n",
       "      <th>3</th>\n",
       "      <td>100004</td>\n",
       "      <td>The Grape Solar 265-Watt Polycrystalline PV So...</td>\n",
       "    </tr>\n",
       "    <tr>\n",
       "      <th>4</th>\n",
       "      <td>100005</td>\n",
       "      <td>Update your bathroom with the Delta Vero Singl...</td>\n",
       "    </tr>\n",
       "    <tr>\n",
       "      <th>...</th>\n",
       "      <td>...</td>\n",
       "      <td>...</td>\n",
       "    </tr>\n",
       "    <tr>\n",
       "      <th>124423</th>\n",
       "      <td>224424</td>\n",
       "      <td>Create a neat yet stylish storage space for or...</td>\n",
       "    </tr>\n",
       "    <tr>\n",
       "      <th>124424</th>\n",
       "      <td>224425</td>\n",
       "      <td>Our Bullnose Adirondack Chair Cushions fit Adi...</td>\n",
       "    </tr>\n",
       "    <tr>\n",
       "      <th>124425</th>\n",
       "      <td>224426</td>\n",
       "      <td>Joist hangers are designed to provide support ...</td>\n",
       "    </tr>\n",
       "    <tr>\n",
       "      <th>124426</th>\n",
       "      <td>224427</td>\n",
       "      <td>These socket cap screws are ideal for applicat...</td>\n",
       "    </tr>\n",
       "    <tr>\n",
       "      <th>124427</th>\n",
       "      <td>224428</td>\n",
       "      <td>The Bosch quick change bi-metal hole saws feat...</td>\n",
       "    </tr>\n",
       "  </tbody>\n",
       "</table>\n",
       "<p>124428 rows × 2 columns</p>\n",
       "</div>"
      ],
      "text/plain": [
       "        product_uid                                product_description\n",
       "0            100001  Not only do angles make joints stronger, they ...\n",
       "1            100002  BEHR Premium Textured DECKOVER is an innovativ...\n",
       "2            100003  Classic architecture meets contemporary design...\n",
       "3            100004  The Grape Solar 265-Watt Polycrystalline PV So...\n",
       "4            100005  Update your bathroom with the Delta Vero Singl...\n",
       "...             ...                                                ...\n",
       "124423       224424  Create a neat yet stylish storage space for or...\n",
       "124424       224425  Our Bullnose Adirondack Chair Cushions fit Adi...\n",
       "124425       224426  Joist hangers are designed to provide support ...\n",
       "124426       224427  These socket cap screws are ideal for applicat...\n",
       "124427       224428  The Bosch quick change bi-metal hole saws feat...\n",
       "\n",
       "[124428 rows x 2 columns]"
      ]
     },
     "execution_count": 43,
     "metadata": {},
     "output_type": "execute_result"
    }
   ],
   "source": [
    "# Display the first few rows of the dataset\n",
    "product_descriptions"
   ]
  },
  {
   "cell_type": "code",
   "execution_count": 44,
   "id": "40bcf06b-8e51-46d0-92de-6de64263af82",
   "metadata": {},
   "outputs": [
    {
     "name": "stdout",
     "output_type": "stream",
     "text": [
      "         product_uid\n",
      "count  124428.000000\n",
      "mean   162214.500000\n",
      "std     35919.413985\n",
      "min    100001.000000\n",
      "25%    131107.750000\n",
      "50%    162214.500000\n",
      "75%    193321.250000\n",
      "max    224428.000000\n"
     ]
    }
   ],
   "source": [
    "# Display descriptive statistics\n",
    "print(product_descriptions.describe())"
   ]
  },
  {
   "cell_type": "code",
   "execution_count": 45,
   "id": "ea276454-b4a2-439e-895b-8e10b41c08c8",
   "metadata": {},
   "outputs": [
    {
     "name": "stdout",
     "output_type": "stream",
     "text": [
      "<class 'pandas.core.frame.DataFrame'>\n",
      "RangeIndex: 124428 entries, 0 to 124427\n",
      "Data columns (total 2 columns):\n",
      " #   Column               Non-Null Count   Dtype \n",
      "---  ------               --------------   ----- \n",
      " 0   product_uid          124428 non-null  int64 \n",
      " 1   product_description  124428 non-null  object\n",
      "dtypes: int64(1), object(1)\n",
      "memory usage: 1.9+ MB\n"
     ]
    }
   ],
   "source": [
    "# Get the summary of the dataset\n",
    "product_descriptions.info()"
   ]
  },
  {
   "cell_type": "markdown",
   "id": "6abbf2e1-973b-48b5-a5f8-e92d808dc81c",
   "metadata": {},
   "source": [
    "#### Data Cleaning"
   ]
  },
  {
   "cell_type": "code",
   "execution_count": 47,
   "id": "63fc5063-972c-4f63-b93c-f066e3c40516",
   "metadata": {},
   "outputs": [
    {
     "name": "stdout",
     "output_type": "stream",
     "text": [
      "product_uid            0\n",
      "product_description    0\n",
      "dtype: int64\n"
     ]
    }
   ],
   "source": [
    "# Check for missing values\n",
    "print(product_descriptions.isnull().sum())"
   ]
  },
  {
   "cell_type": "code",
   "execution_count": 48,
   "id": "776bb4c7-93c1-4e0b-8b2d-dbc13acbbfb0",
   "metadata": {},
   "outputs": [
    {
     "name": "stdout",
     "output_type": "stream",
     "text": [
      "0\n"
     ]
    }
   ],
   "source": [
    "# Check for duplicate values \n",
    "print(product_descriptions.duplicated().sum())"
   ]
  },
  {
   "cell_type": "markdown",
   "id": "4ae02afd-88a2-4617-a63a-e6ef5fc09ad1",
   "metadata": {},
   "source": [
    "##### *The dataset is complete with no missing values and duplicated values.*"
   ]
  },
  {
   "cell_type": "markdown",
   "id": "d7fef036-10a9-4208-8602-dbe3499c3c9c",
   "metadata": {},
   "source": [
    "#### Initial Sample of Product Descriptions"
   ]
  },
  {
   "cell_type": "code",
   "execution_count": 51,
   "id": "cb7e34ec-0621-490d-9b22-0d442faac334",
   "metadata": {},
   "outputs": [
    {
     "data": {
      "text/plain": [
       "0    Not only do angles make joints stronger, they ...\n",
       "1    BEHR Premium Textured DECKOVER is an innovativ...\n",
       "2    Classic architecture meets contemporary design...\n",
       "3    The Grape Solar 265-Watt Polycrystalline PV So...\n",
       "4    Update your bathroom with the Delta Vero Singl...\n",
       "5    Achieving delicious results is almost effortle...\n",
       "6    The Quantum Adjustable 2-Light LED Black Emerg...\n",
       "7    The Teks #10 x 1-1/2 in. Zinc-Plated Steel Was...\n",
       "8    Get the House of Fara 3/4 in. x 3 in. x 8 ft. ...\n",
       "9    Valley View Industries Metal Stakes (4-Pack) a...\n",
       "Name: product_description, dtype: object"
      ]
     },
     "execution_count": 51,
     "metadata": {},
     "output_type": "execute_result"
    }
   ],
   "source": [
    "product_descriptions1 = product_descriptions.head(500)\n",
    "product_descriptions1[\"product_description\"].head(10)"
   ]
  },
  {
   "cell_type": "markdown",
   "id": "7239b782-50e5-4bbe-8b31-a6c87a7368c8",
   "metadata": {},
   "source": [
    "#### Feature Engineering\n",
    "*Feature extraction from product descriptions. Converting the text in product description into numerical data for analysis*"
   ]
  },
  {
   "cell_type": "code",
   "execution_count": 53,
   "id": "24d91107-1a03-4fef-827a-ed9634451908",
   "metadata": {},
   "outputs": [
    {
     "data": {
      "text/plain": [
       "<500x8932 sparse matrix of type '<class 'numpy.float64'>'\n",
       "\twith 34817 stored elements in Compressed Sparse Row format>"
      ]
     },
     "execution_count": 53,
     "metadata": {},
     "output_type": "execute_result"
    }
   ],
   "source": [
    "vectorizer = TfidfVectorizer(stop_words='english')\n",
    "X1 = vectorizer.fit_transform(product_descriptions1[\"product_description\"])\n",
    "X1"
   ]
  },
  {
   "cell_type": "markdown",
   "id": "bb79ffe9-4c62-4771-9a77-b886b23943cb",
   "metadata": {},
   "source": [
    "#### Clustering Product Descriptions Using K-Means"
   ]
  },
  {
   "cell_type": "code",
   "execution_count": 55,
   "id": "e8f335a4-3ba9-45e4-b6f7-215dbd8e9eb0",
   "metadata": {},
   "outputs": [
    {
     "data": {
      "image/png": "[encoded data removed]",
      "text/plain": [
       "<Figure size 640x480 with 1 Axes>"
      ]
     },
     "metadata": {},
     "output_type": "display_data"
    }
   ],
   "source": [
    "# Fitting K-Means to the dataset\n",
    "\n",
    "X=X1\n",
    "\n",
    "kmeans = KMeans(n_clusters = 10, init = 'k-means++')\n",
    "y_kmeans = kmeans.fit_predict(X)\n",
    "plt.plot(y_kmeans, \".\")\n",
    "plt.show()"
   ]
  },
  {
   "cell_type": "code",
   "execution_count": 56,
   "id": "9425ecd9-f0ac-4bca-b447-5ed818212d55",
   "metadata": {},
   "outputs": [],
   "source": [
    "def print_cluster(i):\n",
    "    print(\"Cluster %d:\" % i),\n",
    "    for ind in order_centroids[i, :10]:\n",
    "        print(' %s' % terms[ind]),\n",
    "    print"
   ]
  },
  {
   "cell_type": "code",
   "execution_count": 57,
   "id": "621c7587-849c-4ad2-8d53-8c22d6eba538",
   "metadata": {},
   "outputs": [
    {
     "name": "stdout",
     "output_type": "stream",
     "text": [
      "Top terms per cluster:\n",
      "Cluster 0:\n",
      " water\n",
      " insulation\n",
      " tape\n",
      " fiberglass\n",
      " wash\n",
      " energy\n",
      " easy\n",
      " oil\n",
      " helps\n",
      " roof\n",
      "Cluster 1:\n",
      " air\n",
      " window\n",
      " power\n",
      " ft\n",
      " cooling\n",
      " control\n",
      " fan\n",
      " installation\n",
      " sq\n",
      " cooking\n",
      "Cluster 2:\n",
      " storage\n",
      " shelves\n",
      " lbs\n",
      " steel\n",
      " shelf\n",
      " easy\n",
      " solid\n",
      " unit\n",
      " capacity\n",
      " duty\n",
      "Cluster 3:\n",
      " wood\n",
      " door\n",
      " painted\n",
      " proposition\n",
      " nbsp\n",
      " residents\n",
      " california\n",
      " 65\n",
      " moulding\n",
      " primed\n",
      "Cluster 4:\n",
      " light\n",
      " watt\n",
      " led\n",
      " bulb\n",
      " cabinet\n",
      " lighting\n",
      " bulbs\n",
      " fixture\n",
      " nickel\n",
      " low\n",
      "Cluster 5:\n",
      " frame\n",
      " piece\n",
      " patio\n",
      " toilet\n",
      " dining\n",
      " cushions\n",
      " set\n",
      " wicker\n",
      " azek\n",
      " chairs\n",
      "Cluster 6:\n",
      " sheet\n",
      " plate\n",
      " cut\n",
      " aluminum\n",
      " used\n",
      " non\n",
      " wall\n",
      " projects\n",
      " easy\n",
      " tread\n",
      "Cluster 7:\n",
      " watering\n",
      " garden\n",
      " stake\n",
      " plants\n",
      " ft\n",
      " fence\n",
      " lawn\n",
      " landscape\n",
      " head\n",
      " metal\n",
      "Cluster 8:\n",
      " water\n",
      " tank\n",
      " year\n",
      " warranty\n",
      " volt\n",
      " gal\n",
      " heater\n",
      " flush\n",
      " limited\n",
      " easy\n",
      "Cluster 9:\n",
      " wall\n",
      " ft\n",
      " color\n",
      " use\n",
      " tile\n",
      " finish\n",
      " resistant\n",
      " vary\n",
      " paint\n",
      " rug\n"
     ]
    }
   ],
   "source": [
    "true_k = 10\n",
    "\n",
    "model = KMeans(n_clusters=true_k, init='k-means++', max_iter=100, n_init=1)\n",
    "model.fit(X1)\n",
    "\n",
    "print(\"Top terms per cluster:\")\n",
    "order_centroids = model.cluster_centers_.argsort()[:, ::-1]\n",
    "terms = vectorizer.get_feature_names_out()\n",
    "for i in range(true_k):\n",
    "    print_cluster(i)"
   ]
  },
  {
   "cell_type": "markdown",
   "id": "2ec039da-710f-4970-8deb-1765a185cf66",
   "metadata": {},
   "source": [
    "#### Recommendation Generation"
   ]
  },
  {
   "cell_type": "code",
   "execution_count": 59,
   "id": "6c6d02e3-922b-4bb4-a3b8-78c490a08dec",
   "metadata": {},
   "outputs": [],
   "source": [
    "def show_recommendations(product):\n",
    "    #print(\"Cluster ID:\")\n",
    "    Y = vectorizer.transform([product])\n",
    "    prediction = model.predict(Y)\n",
    "    #print(prediction)\n",
    "    print_cluster(prediction[0])"
   ]
  },
  {
   "cell_type": "code",
   "execution_count": 60,
   "id": "314b6a87-1e7c-4e92-9d60-96da614cae23",
   "metadata": {},
   "outputs": [
    {
     "name": "stdout",
     "output_type": "stream",
     "text": [
      "Cluster 4:\n",
      " light\n",
      " watt\n",
      " led\n",
      " bulb\n",
      " cabinet\n",
      " lighting\n",
      " bulbs\n",
      " fixture\n",
      " nickel\n",
      " low\n"
     ]
    }
   ],
   "source": [
    "show_recommendations(\"bulb\")"
   ]
  },
  {
   "cell_type": "code",
   "execution_count": 61,
   "id": "b033b55a-054a-4380-83e7-e9dfaad94fee",
   "metadata": {},
   "outputs": [
    {
     "name": "stdout",
     "output_type": "stream",
     "text": [
      "Cluster 9:\n",
      " wall\n",
      " ft\n",
      " color\n",
      " use\n",
      " tile\n",
      " finish\n",
      " resistant\n",
      " vary\n",
      " paint\n",
      " rug\n"
     ]
    }
   ],
   "source": [
    "show_recommendations(\"paint\")"
   ]
  },
  {
   "cell_type": "code",
   "execution_count": 62,
   "id": "24f9fade-9dfe-4f4d-af7a-0dac71e849bb",
   "metadata": {},
   "outputs": [
    {
     "name": "stdout",
     "output_type": "stream",
     "text": [
      "Cluster 2:\n",
      " storage\n",
      " shelves\n",
      " lbs\n",
      " steel\n",
      " shelf\n",
      " easy\n",
      " solid\n",
      " unit\n",
      " capacity\n",
      " duty\n"
     ]
    }
   ],
   "source": [
    "show_recommendations(\"steel\")"
   ]
  },
  {
   "cell_type": "markdown",
   "id": "4b7e200b-31c8-4bef-8b78-152a8811f3b2",
   "metadata": {},
   "source": [
    "Once a cluster is found using the user's search terms, the recommendation system can show items from that specific product cluster based on their descriptions. If a word appears in multiple clusters, the algorithm selects the cluster where the word occurs most frequently."
   ]
  },
  {
   "cell_type": "markdown",
   "id": "75f461c9-08ca-4022-8532-5358a9bd475c",
   "metadata": {},
   "source": [
    "### Summary\n",
    "\n",
    "The Initial Setup Recommendations approach is ideal for businesses launching an e-commerce site without any initial user-item purchase or rating history. It offers relevant recommendations to users from the beginning. As the site gathers purchase history, the recommendation engine can transition to model-based collaborative filtering techniques for enhanced recommendations."
   ]
  },
  {
   "cell_type": "code",
   "execution_count": null,
   "id": "a1e0b45d-9fa7-449a-b0c4-a75c126d448c",
   "metadata": {},
   "outputs": [],
   "source": []
  }
 ],
 "metadata": {
  "kernelspec": {
   "display_name": "Python 3 (ipykernel)",
   "language": "python",
   "name": "python3"
  },
  "language_info": {
   "codemirror_mode": {
    "name": "ipython",
    "version": 3
   },
   "file_extension": ".py",
   "mimetype": "text/x-python",
   "name": "python",
   "nbconvert_exporter": "python",
   "pygments_lexer": "ipython3",
   "version": "3.12.4"
  }
 },
 "nbformat": 4,
 "nbformat_minor": 5
}
